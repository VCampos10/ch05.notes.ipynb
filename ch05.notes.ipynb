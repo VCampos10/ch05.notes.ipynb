{
 "cells": [
  {
   "cell_type": "code",
   "execution_count": 9,
   "metadata": {},
   "outputs": [
    {
     "name": "stdout",
     "output_type": "stream",
     "text": [
      "222\n"
     ]
    }
   ],
   "source": [
    "# Make a code to get one integar value and prinnt it\n",
    "\n",
    "\n",
    "\n",
    "#num1 = int(input('Enter your value: '))\n",
    "#print (num1)\n",
    "\n",
    "def getinput():\n",
    "    val = int(input())\n",
    "    return val\n",
    "\n",
    "\n",
    "num2 = getinput()\n",
    "print (num2)"
   ]
  },
  {
   "cell_type": "code",
   "execution_count": 19,
   "metadata": {},
   "outputs": [
    {
     "name": "stdout",
     "output_type": "stream",
     "text": [
      "154\n"
     ]
    }
   ],
   "source": [
    "# get two integar vaule and print the sum\n",
    "# use the function getinput() and getsum()\n",
    "\n",
    "def getinput():\n",
    "    val = int(input())\n",
    "    return val\n",
    "\n",
    "\n",
    "##How to access the num1, num2 which belong to another function\n",
    "\n",
    " \n",
    "def getsum(v1, v2): # parameters\n",
    "    sumoftwovalues = v1 + v2\n",
    "    return sumoftwovalues\n",
    "   \n",
    "    \n",
    "num1 = getinput() \n",
    "num2 = getinput()\n",
    "total = getsum(num1, num2) # arguments num1, num2\n",
    "print(total)"
   ]
  },
  {
   "cell_type": "code",
   "execution_count": 20,
   "metadata": {},
   "outputs": [],
   "source": [
    "# make a function to decide the given number is even or not\n",
    "# if the number is even return 0 otherwise return 1\n",
    "\n",
    "\n",
    "def isEven(num):\n",
    "    ## return 1 if num % 2 == 0 else 1\n",
    "    if num % 2 == 0:\n",
    "        return 0\n",
    "    else:\n",
    "        return 1\n",
    "    \n",
    "\n",
    "\n",
    "num = getinput()\n",
    "result = isEven(num)\n",
    "\n",
    "\n"
   ]
  },
  {
   "cell_type": "code",
   "execution_count": 24,
   "metadata": {},
   "outputs": [
    {
     "name": "stdout",
     "output_type": "stream",
     "text": [
      "10\t20\t30\t40\t50\t\n"
     ]
    }
   ],
   "source": [
    "def printit(mylst):\n",
    "    for v in mylst:\n",
    "        print(v, end ='\\t')\n",
    "    print()\n",
    "\n",
    "\n",
    "mylst = [10, 20, 30, 40, 50]\n",
    "printit(mylst)"
   ]
  },
  {
   "cell_type": "code",
   "execution_count": 31,
   "metadata": {},
   "outputs": [
    {
     "name": "stdout",
     "output_type": "stream",
     "text": [
      "10 15 5 "
     ]
    }
   ],
   "source": [
    "# print all elements which are less than average \n",
    "def printlst(numbers):\n",
    "    average = sum(numbers) / len(numbers)\n",
    "    \n",
    "    for i in range(len(numbers)):\n",
    "        if numbers[i] < average:\n",
    "            print(numbers[i], end=' ')\n",
    "        \n",
    "\n",
    "\n",
    "\n",
    "numbers = [10, 15, 20, 25, 30, 5]\n",
    "printlst(numbers)"
   ]
  },
  {
   "cell_type": "code",
   "execution_count": 3,
   "metadata": {},
   "outputs": [
    {
     "name": "stdout",
     "output_type": "stream",
     "text": [
      "The value of parameter n1 and n2 are 10 and 20\n",
      "At the main 10 20\n"
     ]
    }
   ],
   "source": [
    "def getinput(n1, n2):\n",
    "    n1 = input()\n",
    "    n2 = input()\n",
    "    print (\"The value of parameter n1 and n2 are {0} and {1}\".format(n1, n2))\n",
    "    return n1, n2\n",
    "    \n",
    "a = 0 ; b = 0\n",
    "a,b = getinput(a, b)\n",
    "print ('At the main', a, b )"
   ]
  },
  {
   "cell_type": "code",
   "execution_count": null,
   "metadata": {},
   "outputs": [],
   "source": []
  },
  {
   "cell_type": "code",
   "execution_count": 4,
   "metadata": {},
   "outputs": [
    {
     "name": "stdout",
     "output_type": "stream",
     "text": [
      "[10, 20, 30]\n"
     ]
    }
   ],
   "source": [
    "mylist1 = [10, 20, 30]\n",
    "\n",
    "mylist2 = mylist1\n",
    "\n",
    "print(mylist2)"
   ]
  },
  {
   "cell_type": "code",
   "execution_count": 5,
   "metadata": {},
   "outputs": [
    {
     "name": "stdout",
     "output_type": "stream",
     "text": [
      "[999, 0, 0]\n"
     ]
    }
   ],
   "source": [
    "def changeme(lst):\n",
    "    lst[0] = 999\n",
    "    \n",
    "mylst = [0, 0, 0]\n",
    "changeme(mylst)\n",
    "print (mylst)\n"
   ]
  }
 ],
 "metadata": {
  "kernelspec": {
   "display_name": "base",
   "language": "python",
   "name": "python3"
  },
  "language_info": {
   "codemirror_mode": {
    "name": "ipython",
    "version": 3
   },
   "file_extension": ".py",
   "mimetype": "text/x-python",
   "name": "python",
   "nbconvert_exporter": "python",
   "pygments_lexer": "ipython3",
   "version": "3.12.4"
  }
 },
 "nbformat": 4,
 "nbformat_minor": 2
}
